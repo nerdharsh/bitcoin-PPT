{
 "cells": [
  {
   "cell_type": "code",
   "execution_count": 1,
   "id": "91716ea9-bb41-4e47-933b-e9183e93fb8c",
   "metadata": {},
   "outputs": [
    {
     "name": "stderr",
     "output_type": "stream",
     "text": [
      "<ipython-input-1-7ba88191cb97>:5: FutureWarning: The pandas.datetime class is deprecated and will be removed from pandas in a future version. Import from datetime module instead.\n",
      "  from pandas import datetime\n"
     ]
    }
   ],
   "source": [
    "import numpy as np \n",
    "import pandas as pd \n",
    "import matplotlib.pyplot as plt\n",
    "from pandas.plotting import lag_plot\n",
    "from pandas import datetime\n",
    "from statsmodels.tsa.arima_model import ARIMA\n",
    "from sklearn.metrics import mean_squared_error\n",
    "from sklearn import linear_model as lm"
   ]
  },
  {
   "cell_type": "code",
   "execution_count": 2,
   "id": "20f58ce2-3b8b-41fe-a084-bb89bc913889",
   "metadata": {},
   "outputs": [
    {
     "data": {
      "text/plain": [
       "(4127, 7)"
      ]
     },
     "execution_count": 2,
     "metadata": {},
     "output_type": "execute_result"
    }
   ],
   "source": [
    "df=pd.read_csv('bitcoins.csv',header=0)\n",
    "df.shape"
   ]
  },
  {
   "cell_type": "code",
   "execution_count": 3,
   "id": "99354487-9a58-4c7c-8248-dcfbee012589",
   "metadata": {},
   "outputs": [
    {
     "data": {
      "text/html": [
       "<div>\n",
       "<style scoped>\n",
       "    .dataframe tbody tr th:only-of-type {\n",
       "        vertical-align: middle;\n",
       "    }\n",
       "\n",
       "    .dataframe tbody tr th {\n",
       "        vertical-align: top;\n",
       "    }\n",
       "\n",
       "    .dataframe thead th {\n",
       "        text-align: right;\n",
       "    }\n",
       "</style>\n",
       "<table border=\"1\" class=\"dataframe\">\n",
       "  <thead>\n",
       "    <tr style=\"text-align: right;\">\n",
       "      <th></th>\n",
       "      <th>date</th>\n",
       "      <th>Open</th>\n",
       "      <th>High</th>\n",
       "      <th>Low</th>\n",
       "      <th>close</th>\n",
       "      <th>Vol.</th>\n",
       "      <th>Change %</th>\n",
       "    </tr>\n",
       "  </thead>\n",
       "  <tbody>\n",
       "    <tr>\n",
       "      <th>0</th>\n",
       "      <td>18-Jul-10</td>\n",
       "      <td>0</td>\n",
       "      <td>0.1</td>\n",
       "      <td>0.1</td>\n",
       "      <td>0.1</td>\n",
       "      <td>0.08K</td>\n",
       "      <td>0.00%</td>\n",
       "    </tr>\n",
       "    <tr>\n",
       "      <th>1</th>\n",
       "      <td>19-Jul-10</td>\n",
       "      <td>0.1</td>\n",
       "      <td>0.1</td>\n",
       "      <td>0.1</td>\n",
       "      <td>0.1</td>\n",
       "      <td>0.57K</td>\n",
       "      <td>0.00%</td>\n",
       "    </tr>\n",
       "    <tr>\n",
       "      <th>2</th>\n",
       "      <td>20-Jul-10</td>\n",
       "      <td>0.1</td>\n",
       "      <td>0.1</td>\n",
       "      <td>0.1</td>\n",
       "      <td>0.1</td>\n",
       "      <td>0.26K</td>\n",
       "      <td>0.00%</td>\n",
       "    </tr>\n",
       "    <tr>\n",
       "      <th>3</th>\n",
       "      <td>21-Jul-10</td>\n",
       "      <td>0.1</td>\n",
       "      <td>0.1</td>\n",
       "      <td>0.1</td>\n",
       "      <td>0.1</td>\n",
       "      <td>0.58K</td>\n",
       "      <td>0.00%</td>\n",
       "    </tr>\n",
       "    <tr>\n",
       "      <th>4</th>\n",
       "      <td>22-Jul-10</td>\n",
       "      <td>0.1</td>\n",
       "      <td>0.1</td>\n",
       "      <td>0.1</td>\n",
       "      <td>0.1</td>\n",
       "      <td>2.16K</td>\n",
       "      <td>0.00%</td>\n",
       "    </tr>\n",
       "  </tbody>\n",
       "</table>\n",
       "</div>"
      ],
      "text/plain": [
       "        date Open High  Low  close   Vol. Change %\n",
       "0  18-Jul-10    0  0.1  0.1    0.1  0.08K    0.00%\n",
       "1  19-Jul-10  0.1  0.1  0.1    0.1  0.57K    0.00%\n",
       "2  20-Jul-10  0.1  0.1  0.1    0.1  0.26K    0.00%\n",
       "3  21-Jul-10  0.1  0.1  0.1    0.1  0.58K    0.00%\n",
       "4  22-Jul-10  0.1  0.1  0.1    0.1  2.16K    0.00%"
      ]
     },
     "execution_count": 3,
     "metadata": {},
     "output_type": "execute_result"
    }
   ],
   "source": [
    "df.head()"
   ]
  },
  {
   "cell_type": "code",
   "execution_count": null,
   "id": "44216fc0-3017-4a3d-9006-8227df94f9db",
   "metadata": {},
   "outputs": [],
   "source": [
    "plt.figure()\n",
    "lag_plot(df['Open'], lag=3)\n",
    "plt.title('Autocorrelation of Stock price')\n",
    "plt.show()"
   ]
  },
  {
   "cell_type": "code",
   "execution_count": null,
   "id": "10c2aa97-a108-499f-bde3-c5da95b53f00",
   "metadata": {},
   "outputs": [],
   "source": [
    "train_data, test_data = df[0:int(len(df)*0.7)], df[int(len(df)*0.7):]\n",
    "training_data = train_data['Close'].values\n",
    "test_data = test_data['Close'].values\n",
    "history = [x for x in training_data]\n",
    "model_predictions = []\n",
    "N_test_observations = len(test_data)\n",
    "for time_point in range(N_test_observations):\n",
    "    model = ARIMA(history, order=(4,1,0))\n",
    "    model_fit = model.fit(disp=0)\n",
    "    output = model_fit.forecast()\n",
    "    yhat = output[0]\n",
    "    model_predictions.append(yhat)\n",
    "    true_test_value = test_data[time_point]\n",
    "    history.append(true_test_value)\n",
    "MSE_error = mean_squared_error(test_data, model_predictions)\n",
    "print('Testing Mean Squared Error is {}'.format(MSE_error))"
   ]
  },
  {
   "cell_type": "code",
   "execution_count": null,
   "id": "39294578-c081-4781-841a-60ce9b076d48",
   "metadata": {},
   "outputs": [],
   "source": [
    "test_set_range = df[int(len(df)*0.7):].index\n",
    "len(test_set_range)"
   ]
  },
  {
   "cell_type": "code",
   "execution_count": null,
   "id": "209091f4-9a15-4bc4-9528-8f9db5ee14f0",
   "metadata": {},
   "outputs": [],
   "source": [
    "plt.plot(range(1,76), model_predictions, color='blue', marker='o', linestyle='dashed',label='Predicted Price')\n",
    "plt.plot(range(1,76), test_data, color='red', label='Actual Price')\n",
    "plt.xlabel('Date')\n",
    "plt.ylabel('Prices')\n",
    "plt.legend()\n",
    "plt.show()"
   ]
  },
  {
   "cell_type": "code",
   "execution_count": null,
   "id": "7f772e37-8f52-49fe-9e47-873a35faab36",
   "metadata": {},
   "outputs": [],
   "source": [
    "O = df['Open'].values\n",
    "C = df[\"Close\"].values\n",
    "u = range(1,248)\n",
    "ndata = len(O)\n",
    "plt.plot(u,O,color =\"blue\")\n",
    "plt.plot(u,C,color =\"red\")\n",
    "plt.xlabel('Number of Days')\n",
    "plt.ylabel('Market open Deviation')\n",
    "plt.show()"
   ]
  },
  {
   "cell_type": "markdown",
   "id": "af40babe-6eda-48f7-b4cc-3e1badf1eae2",
   "metadata": {},
   "source": [
    "Simple AR model prediction for Opening of the market"
   ]
  },
  {
   "cell_type": "code",
   "execution_count": null,
   "id": "15d09afd-64be-451f-82e8-5f0f09be2b86",
   "metadata": {},
   "outputs": [],
   "source": [
    "mu_t = np.mean(df[\"Open\"])\n",
    "dev = O - mu_t\n",
    "plt.plot(dev)\n",
    "plt.show()"
   ]
  },
  {
   "cell_type": "code",
   "execution_count": null,
   "id": "6d73dfad-778c-49aa-b3fa-2ee5fc165037",
   "metadata": {},
   "outputs": [],
   "source": [
    "d = [range(1,len(dev)+1),dev]\n",
    "df = pd.DataFrame(d)\n",
    "detrend = df.T\n",
    "#detrend.rename( columns={'Unnamed: 0':'ind',\"Unnamed: 1\":\"Y\"}, inplace=True )\n",
    "#detrend.head()\n",
    "# split the data into training and validation\n",
    "train = detrend[0:180]\n",
    "valid = detrend[180:]"
   ]
  },
  {
   "cell_type": "code",
   "execution_count": null,
   "id": "12d2bd8d-32f6-448e-80b7-b5b55336dc97",
   "metadata": {},
   "outputs": [],
   "source": [
    "train.head()\n",
    "train[1]"
   ]
  },
  {
   "cell_type": "code",
   "execution_count": null,
   "id": "a9441fe9-710b-483e-a518-9c0a8e0342da",
   "metadata": {},
   "outputs": [],
   "source": [
    "def fit_ar(y, p):\n",
    "    \"\"\"Fits an AR(p) model. The loss function is the sum of squared errors from t=p+1 to t=n.\n",
    "\n",
    "    :param y: array (n,), training data points\n",
    "    :param p: int, AR model order\n",
    "    :return theta: array (p,), learnt AR coefficients\n",
    "    \"\"\"\n",
    "\n",
    "    # Number of training data points\n",
    "    n = len(y) # <COMPLETE THIS LINE>\n",
    "    \n",
    "    # Construct the regression matrix\n",
    "    Phi = np.zeros((n-p,p))    # ignore the p values in data\n",
    "    for j in range(p):\n",
    "        Phi[:,j] = y[j:n+j-p]# <COMPLETE THIS LINE>\n",
    "    \n",
    "    # Drop the first p values from the target vector y\n",
    "    yy = y[p:]  # yy = (y_{t+p+1}, ..., y_n)\n",
    "\n",
    "    # Here we use fit_intercept=False since we do not want to include an intercept term in the AR model\n",
    "    regr = lm.LinearRegression(fit_intercept=False)\n",
    "    regr.fit(Phi,yy)    \n",
    "\n",
    "    return regr.coef_"
   ]
  },
  {
   "cell_type": "code",
   "execution_count": null,
   "id": "8879b2d4-dbf5-4062-a4ee-b3c0cc61336c",
   "metadata": {},
   "outputs": [],
   "source": [
    "ytrain=train[1]\n",
    "yval = valid[1]\n",
    "reg_coef=fit_ar(ytrain,10)\n",
    "print(\"The regression coefficients are {}\".format(reg_coef))\n",
    "\n",
    "plt.plot(reg_coef)\n",
    "plt.show()"
   ]
  },
  {
   "cell_type": "code",
   "execution_count": null,
   "id": "c4ce3c84-e7ac-4720-a1a7-2367c6b6841b",
   "metadata": {},
   "outputs": [],
   "source": [
    "def predict_ar_1step(theta, y_target):\n",
    "    \"\"\"Predicts the value y_t for t = p+1, ..., n, for an AR(p) model, based on the data in y_target using\n",
    "    one-step-ahead prediction.\n",
    "\n",
    "    :param theta: array (p,), AR coefficients, theta=(a1,a2,...,ap).\n",
    "    :param y_target: array (n,), the data points used to compute the predictions.\n",
    "    :return y_pred: array (n-p,), the one-step predictions (\\hat y_{p+1}, ...., \\hat y_n) \n",
    "    \"\"\"\n",
    "\n",
    "    n = len(y_target)\n",
    "    p = len(theta)\n",
    "    \n",
    "    # Number of steps in prediction\n",
    "    m = n-p\n",
    "    y_pred = np.zeros(m)\n",
    "    \n",
    "    for i in range(m):\n",
    "        # <COMPLETE THIS CODE BLOCK>\n",
    "        y_pred[i] = sum(theta*y_target[i:i+p]) # sum of theta*y[0:10],ay[1:10].....a*y[690:700]\n",
    "        \n",
    "    return y_pred"
   ]
  },
  {
   "cell_type": "code",
   "execution_count": null,
   "id": "cf54e8f4-4a1b-4b23-8f99-7c62f057a9f5",
   "metadata": {},
   "outputs": [],
   "source": [
    "y_pred_train=predict_ar_1step(reg_coef,ytrain)\n",
    "y_pred_val=predict_ar_1step(reg_coef,yval)\n",
    "plt.plot(detrend[0],detrend[1],label = \"Data\")\n",
    "plt.plot(range(10,180),y_pred_train,label=\"Train Fitted\")\n",
    "plt.plot(range(180,237),y_pred_val,label=\"Valid Fitted\")\n",
    "plt.legend()\n",
    "plt.title(\"Prediction by using AR model\")\n",
    "plt.show()"
   ]
  },
  {
   "cell_type": "code",
   "execution_count": null,
   "id": "26d0b26a-b161-4e1f-b055-d9434f02301b",
   "metadata": {},
   "outputs": [],
   "source": []
  }
 ],
 "metadata": {
  "kernelspec": {
   "display_name": "Python 3",
   "language": "python",
   "name": "python3"
  },
  "language_info": {
   "codemirror_mode": {
    "name": "ipython",
    "version": 3
   },
   "file_extension": ".py",
   "mimetype": "text/x-python",
   "name": "python",
   "nbconvert_exporter": "python",
   "pygments_lexer": "ipython3",
   "version": "3.8.8"
  }
 },
 "nbformat": 4,
 "nbformat_minor": 5
}
